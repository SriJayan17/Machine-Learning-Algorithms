{
 "cells": [
  {
   "cell_type": "markdown",
   "metadata": {},
   "source": [
    "# Decision Tree using Gini Index"
   ]
  },
  {
   "cell_type": "code",
   "execution_count": 1,
   "metadata": {},
   "outputs": [],
   "source": [
    "import pandas as pd\n",
    "import numpy as np"
   ]
  },
  {
   "cell_type": "code",
   "execution_count": 2,
   "metadata": {},
   "outputs": [],
   "source": [
    "trainData = pd.read_csv(\"../Datasets/train-data.csv\")"
   ]
  },
  {
   "cell_type": "code",
   "execution_count": 3,
   "metadata": {},
   "outputs": [
    {
     "data": {
      "text/html": [
       "<div>\n",
       "<style scoped>\n",
       "    .dataframe tbody tr th:only-of-type {\n",
       "        vertical-align: middle;\n",
       "    }\n",
       "\n",
       "    .dataframe tbody tr th {\n",
       "        vertical-align: top;\n",
       "    }\n",
       "\n",
       "    .dataframe thead th {\n",
       "        text-align: right;\n",
       "    }\n",
       "</style>\n",
       "<table border=\"1\" class=\"dataframe\">\n",
       "  <thead>\n",
       "    <tr style=\"text-align: right;\">\n",
       "      <th></th>\n",
       "      <th>CGPA</th>\n",
       "      <th>Intractiveness</th>\n",
       "      <th>Practical Knowledge</th>\n",
       "      <th>Communication skill</th>\n",
       "      <th>Job offer</th>\n",
       "    </tr>\n",
       "  </thead>\n",
       "  <tbody>\n",
       "    <tr>\n",
       "      <th>0</th>\n",
       "      <td>&gt;=9</td>\n",
       "      <td>yes</td>\n",
       "      <td>very good</td>\n",
       "      <td>good</td>\n",
       "      <td>yes</td>\n",
       "    </tr>\n",
       "    <tr>\n",
       "      <th>1</th>\n",
       "      <td>&gt;=8</td>\n",
       "      <td>no</td>\n",
       "      <td>good</td>\n",
       "      <td>moderate</td>\n",
       "      <td>yes</td>\n",
       "    </tr>\n",
       "    <tr>\n",
       "      <th>2</th>\n",
       "      <td>&gt;=9</td>\n",
       "      <td>no</td>\n",
       "      <td>average</td>\n",
       "      <td>poor</td>\n",
       "      <td>no</td>\n",
       "    </tr>\n",
       "    <tr>\n",
       "      <th>3</th>\n",
       "      <td>&lt;8</td>\n",
       "      <td>no</td>\n",
       "      <td>average</td>\n",
       "      <td>good</td>\n",
       "      <td>no</td>\n",
       "    </tr>\n",
       "    <tr>\n",
       "      <th>4</th>\n",
       "      <td>&gt;=8</td>\n",
       "      <td>yes</td>\n",
       "      <td>good</td>\n",
       "      <td>moderate</td>\n",
       "      <td>yes</td>\n",
       "    </tr>\n",
       "  </tbody>\n",
       "</table>\n",
       "</div>"
      ],
      "text/plain": [
       "  CGPA Intractiveness Practical Knowledge Communication skill Job offer\n",
       "0  >=9            yes           very good                good       yes\n",
       "1  >=8             no                good            moderate       yes\n",
       "2  >=9             no             average                poor        no\n",
       "3   <8             no             average                good        no\n",
       "4  >=8            yes                good            moderate       yes"
      ]
     },
     "execution_count": 3,
     "metadata": {},
     "output_type": "execute_result"
    }
   ],
   "source": [
    "trainData.head()"
   ]
  },
  {
   "cell_type": "code",
   "execution_count": 4,
   "metadata": {},
   "outputs": [],
   "source": [
    "class DecisionTree:\n",
    "    def __init__(self,data,features,label):\n",
    "        \n",
    "        self.gini = self.calcGini(data,label)\n",
    "        \n",
    "        if self.gini == 0:\n",
    "            \n",
    "            self.type = \"Decision\"\n",
    "            self.result = data[label].unique()[0]\n",
    "            \n",
    "            self.details()\n",
    "            \n",
    "            return\n",
    "        \n",
    "        delGinis = {}\n",
    "        branches = {}\n",
    "        \n",
    "        for feature in features:\n",
    "            \n",
    "            values = data[feature].unique()\n",
    "            validCombinations = self.calcValidCombinations(values)\n",
    "            minGiniA = 100\n",
    "            minCombination = []\n",
    "            \n",
    "            for combination in validCombinations:\n",
    "                                \n",
    "                giniA = self.calcGiniA(data,feature,combination,label)\n",
    "                \n",
    "                if minGiniA > giniA:\n",
    "                    \n",
    "                    minCombination = []\n",
    "                    minGiniA = giniA\n",
    "                    li = [x for x in list(values) if x not in combination]\n",
    "                    minCombination.append(combination)\n",
    "                    minCombination.append(li)\n",
    "            \n",
    "            delGinis[feature] = self.gini - minGiniA\n",
    "            branches[feature] = minCombination  \n",
    "            \n",
    "        maxDelGini = max(zip(delGinis.values(), delGinis.keys()))\n",
    "        self.type = \"Condition\"\n",
    "        self.feature = maxDelGini[1]\n",
    "        self.delGini = maxDelGini[0]\n",
    "        self.combination = branches[self.feature]\n",
    "        self.branches = {}\n",
    "        self.details()\n",
    "        \n",
    "        features.remove(self.feature)\n",
    "        \n",
    "        for combination in self.combination:\n",
    "            \n",
    "            filteredData = pd.DataFrame(columns = data.columns)                \n",
    "            \n",
    "            for value in combination:\n",
    "                filteredData = filteredData.append(data[data[self.feature]==value])\n",
    "            \n",
    "            node = DecisionTree(filteredData,features,label)\n",
    "            self.branches[tuple(combination)] = node\n",
    "        \n",
    "    def calcValidCombinations(self,values):\n",
    "        \n",
    "        n = len(values)\n",
    "        validCombinations = []\n",
    "        \n",
    "        for i in range(1 << n):\n",
    "            \n",
    "            curr = [values[j] for j in range(n) if (i & (1 << j))]\n",
    "            \n",
    "            if curr != [] and len(curr) != n:\n",
    "                \n",
    "                validCombinations.append(curr)\n",
    "\n",
    "        return validCombinations[:int(len(validCombinations)/2)]\n",
    "                                                       \n",
    "\n",
    "    def calcGini(self,data,label):\n",
    "        \n",
    "        values = data[label].unique()\n",
    "        gini = 0\n",
    "        \n",
    "        for value in values:\n",
    "        \n",
    "            prob = len(data[data[label] == value])/len(data)\n",
    "            gini += ( np.square(prob) )\n",
    "        \n",
    "        return 1-gini\n",
    "                                                       \n",
    "    \n",
    "    def calcGiniA (self,data,feature,combination,label):\n",
    "        \n",
    "        values = list(data[feature].unique())\n",
    "        \n",
    "        filteredData1 = pd.DataFrame(columns = data.columns)\n",
    "        filteredData2 = pd.DataFrame(columns = data.columns)\n",
    "        \n",
    "        for val in combination:\n",
    "            filteredData1 = filteredData1.append(data[data[feature]==val])\n",
    "            values.remove(val)\n",
    "        \n",
    "        for val in values:\n",
    "            filteredData2 = filteredData2.append(data[data[feature]==val])\n",
    "            \n",
    "        \n",
    "        p1 = len(filteredData1)/len(data)\n",
    "        p2 = len(filteredData2)/ len(data)\n",
    "        \n",
    "        gini1 = self.calcGini(filteredData1,label)\n",
    "        gini2 = self.calcGini(filteredData2,label)\n",
    "                                                 \n",
    "        return p1*gini1 + p2*gini2\n",
    "            \n",
    "    \n",
    "    def details(self):\n",
    "        print(\"Type:\", self.type)\n",
    "        \n",
    "        if self.type == \"Decision\":\n",
    "            print(\"Result:\", self.result)\n",
    "        else:\n",
    "            print(\"Attribute:\", self.feature)\n",
    "            print(\"Branches:\", self.combination)\n",
    "            print(\"Del Gini:\", self.delGini)\n",
    "        \n",
    "\n",
    "        print(\"\")\n",
    "    \n",
    "    def traverse(self, data):\n",
    "        if self.type == \"Decision\":\n",
    "            return self.result\n",
    "        else:\n",
    "            branch = []\n",
    "            for value in self.combination:\n",
    "                if data[self.feature].values[0] in value:\n",
    "                    branch = value\n",
    "                    break\n",
    "            \n",
    "            return self.branches[tuple(branch)].traverse(data)\n",
    "        "
   ]
  },
  {
   "cell_type": "code",
   "execution_count": 5,
   "metadata": {},
   "outputs": [],
   "source": [
    "class DecisionTreeClassifier:\n",
    "    def train(self,data,features,label):\n",
    "        self.root = DecisionTree(data,features,label)\n",
    "        \n",
    "    def predict(self, X):\n",
    "        pred = []\n",
    "        \n",
    "        for i in range(X.shape[0]):\n",
    "            pred.append(self.root.traverse(X.iloc[i:i + 1, :]))\n",
    "        \n",
    "        return pred"
   ]
  },
  {
   "cell_type": "code",
   "execution_count": 6,
   "metadata": {},
   "outputs": [],
   "source": [
    "features = [\"CGPA\",\"Intractiveness\",\"Practical Knowledge\",\"Communication skill\"]\n",
    "label = \"Job offer\""
   ]
  },
  {
   "cell_type": "code",
   "execution_count": 7,
   "metadata": {},
   "outputs": [],
   "source": [
    "model = DecisionTreeClassifier()"
   ]
  },
  {
   "cell_type": "code",
   "execution_count": 8,
   "metadata": {},
   "outputs": [
    {
     "name": "stdout",
     "output_type": "stream",
     "text": [
      "Type: Condition\n",
      "Attribute: Communication skill\n",
      "Branches: [['good', 'moderate'], ['poor']]\n",
      "Del Gini: 0.24500000000000002\n",
      "\n",
      "Type: Condition\n",
      "Attribute: CGPA\n",
      "Branches: [['<8'], ['>=9', '>=8']]\n",
      "Del Gini: 0.21875\n",
      "\n",
      "Type: Decision\n",
      "Result: no\n",
      "\n",
      "Type: Decision\n",
      "Result: yes\n",
      "\n",
      "Type: Decision\n",
      "Result: no\n",
      "\n"
     ]
    }
   ],
   "source": [
    "model.train(trainData,features,label)"
   ]
  },
  {
   "cell_type": "code",
   "execution_count": 9,
   "metadata": {},
   "outputs": [],
   "source": [
    "testData = pd.read_csv(\"../Datasets/test-data.csv\")"
   ]
  },
  {
   "cell_type": "code",
   "execution_count": 10,
   "metadata": {},
   "outputs": [
    {
     "data": {
      "text/html": [
       "<div>\n",
       "<style scoped>\n",
       "    .dataframe tbody tr th:only-of-type {\n",
       "        vertical-align: middle;\n",
       "    }\n",
       "\n",
       "    .dataframe tbody tr th {\n",
       "        vertical-align: top;\n",
       "    }\n",
       "\n",
       "    .dataframe thead th {\n",
       "        text-align: right;\n",
       "    }\n",
       "</style>\n",
       "<table border=\"1\" class=\"dataframe\">\n",
       "  <thead>\n",
       "    <tr style=\"text-align: right;\">\n",
       "      <th></th>\n",
       "      <th>CGPA</th>\n",
       "      <th>Intractiveness</th>\n",
       "      <th>Practical Knowledge</th>\n",
       "      <th>Communication skill</th>\n",
       "      <th>Job offer</th>\n",
       "    </tr>\n",
       "  </thead>\n",
       "  <tbody>\n",
       "    <tr>\n",
       "      <th>0</th>\n",
       "      <td>&lt;8</td>\n",
       "      <td>no</td>\n",
       "      <td>average</td>\n",
       "      <td>good</td>\n",
       "      <td>no</td>\n",
       "    </tr>\n",
       "    <tr>\n",
       "      <th>1</th>\n",
       "      <td>&gt;=8</td>\n",
       "      <td>yes</td>\n",
       "      <td>good</td>\n",
       "      <td>moderate</td>\n",
       "      <td>yes</td>\n",
       "    </tr>\n",
       "    <tr>\n",
       "      <th>2</th>\n",
       "      <td>&gt;=9</td>\n",
       "      <td>yes</td>\n",
       "      <td>good</td>\n",
       "      <td>moderate</td>\n",
       "      <td>yes</td>\n",
       "    </tr>\n",
       "  </tbody>\n",
       "</table>\n",
       "</div>"
      ],
      "text/plain": [
       "  CGPA Intractiveness Practical Knowledge Communication skill Job offer\n",
       "0   <8             no             average                good        no\n",
       "1  >=8            yes                good            moderate       yes\n",
       "2  >=9            yes                good            moderate       yes"
      ]
     },
     "execution_count": 10,
     "metadata": {},
     "output_type": "execute_result"
    }
   ],
   "source": [
    "testData.head()"
   ]
  },
  {
   "cell_type": "code",
   "execution_count": 11,
   "metadata": {},
   "outputs": [],
   "source": [
    "predictedData = model.predict(testData)"
   ]
  },
  {
   "cell_type": "code",
   "execution_count": 12,
   "metadata": {},
   "outputs": [
    {
     "data": {
      "text/plain": [
       "['no', 'yes', 'yes']"
      ]
     },
     "execution_count": 12,
     "metadata": {},
     "output_type": "execute_result"
    }
   ],
   "source": [
    "predictedData"
   ]
  },
  {
   "cell_type": "code",
   "execution_count": 13,
   "metadata": {},
   "outputs": [],
   "source": [
    "import matplotlib.pyplot as plt"
   ]
  },
  {
   "cell_type": "code",
   "execution_count": 14,
   "metadata": {},
   "outputs": [],
   "source": [
    "actualData = list(testData[label].values)"
   ]
  },
  {
   "cell_type": "code",
   "execution_count": 15,
   "metadata": {},
   "outputs": [
    {
     "data": {
      "text/plain": [
       "['no', 'yes', 'yes']"
      ]
     },
     "execution_count": 15,
     "metadata": {},
     "output_type": "execute_result"
    }
   ],
   "source": [
    "actualData"
   ]
  },
  {
   "cell_type": "code",
   "execution_count": 16,
   "metadata": {},
   "outputs": [],
   "source": [
    "actualYesCount = actualData.count(\"yes\")\n",
    "actualNoCount = actualData.count(\"no\")\n",
    "\n",
    "predictedYesCount = predictedData.count(\"yes\")\n",
    "predictedNoCount = predictedData.count(\"no\")"
   ]
  },
  {
   "cell_type": "code",
   "execution_count": 17,
   "metadata": {},
   "outputs": [],
   "source": [
    "plt.style.use(\"seaborn\")"
   ]
  },
  {
   "cell_type": "code",
   "execution_count": 18,
   "metadata": {},
   "outputs": [
    {
     "data": {
      "image/png": "[encoded data removed]",
      "text/plain": [
       "<Figure size 720x360 with 2 Axes>"
      ]
     },
     "metadata": {},
     "output_type": "display_data"
    }
   ],
   "source": [
    "fig, (ax1,ax2) = plt.subplots(nrows=1,ncols=2,figsize=(10,5))\n",
    "\n",
    "ax1.bar([\"yes\",\"no\"],[actualYesCount,actualNoCount])\n",
    "ax1.set(xlabel=\"Target Lables\",ylabel=\"Counts\",title=\"Actual Results\")\n",
    "ax2.bar([\"yes\",\"no\"],[predictedYesCount,predictedNoCount])\n",
    "ax2.set(xlabel=\"Target Lables\",ylabel=\"Counts\",title=\"Predicted Results\");"
   ]
  },
  {
   "cell_type": "code",
   "execution_count": 3,
   "metadata": {},
   "outputs": [
    {
     "data": {
      "text/html": [
       "<div>\n",
       "<style scoped>\n",
       "    .dataframe tbody tr th:only-of-type {\n",
       "        vertical-align: middle;\n",
       "    }\n",
       "\n",
       "    .dataframe tbody tr th {\n",
       "        vertical-align: top;\n",
       "    }\n",
       "\n",
       "    .dataframe thead th {\n",
       "        text-align: right;\n",
       "    }\n",
       "</style>\n",
       "<table border=\"1\" class=\"dataframe\">\n",
       "  <thead>\n",
       "    <tr style=\"text-align: right;\">\n",
       "      <th></th>\n",
       "      <th>CGPA</th>\n",
       "      <th>Intractiveness</th>\n",
       "      <th>Practical Knowledge</th>\n",
       "      <th>Communication skill</th>\n",
       "      <th>Job offer</th>\n",
       "    </tr>\n",
       "  </thead>\n",
       "  <tbody>\n",
       "    <tr>\n",
       "      <th>0</th>\n",
       "      <td>&gt;=9</td>\n",
       "      <td>yes</td>\n",
       "      <td>very good</td>\n",
       "      <td>good</td>\n",
       "      <td>yes</td>\n",
       "    </tr>\n",
       "    <tr>\n",
       "      <th>1</th>\n",
       "      <td>&gt;=8</td>\n",
       "      <td>no</td>\n",
       "      <td>good</td>\n",
       "      <td>moderate</td>\n",
       "      <td>yes</td>\n",
       "    </tr>\n",
       "    <tr>\n",
       "      <th>2</th>\n",
       "      <td>&gt;=9</td>\n",
       "      <td>no</td>\n",
       "      <td>average</td>\n",
       "      <td>poor</td>\n",
       "      <td>no</td>\n",
       "    </tr>\n",
       "    <tr>\n",
       "      <th>3</th>\n",
       "      <td>&lt;8</td>\n",
       "      <td>no</td>\n",
       "      <td>average</td>\n",
       "      <td>good</td>\n",
       "      <td>no</td>\n",
       "    </tr>\n",
       "    <tr>\n",
       "      <th>4</th>\n",
       "      <td>&gt;=8</td>\n",
       "      <td>yes</td>\n",
       "      <td>good</td>\n",
       "      <td>moderate</td>\n",
       "      <td>yes</td>\n",
       "    </tr>\n",
       "    <tr>\n",
       "      <th>5</th>\n",
       "      <td>&gt;=9</td>\n",
       "      <td>yes</td>\n",
       "      <td>good</td>\n",
       "      <td>moderate</td>\n",
       "      <td>yes</td>\n",
       "    </tr>\n",
       "    <tr>\n",
       "      <th>6</th>\n",
       "      <td>&lt;8</td>\n",
       "      <td>yes</td>\n",
       "      <td>good</td>\n",
       "      <td>poor</td>\n",
       "      <td>no</td>\n",
       "    </tr>\n",
       "    <tr>\n",
       "      <th>7</th>\n",
       "      <td>&gt;=9</td>\n",
       "      <td>no</td>\n",
       "      <td>very good</td>\n",
       "      <td>good</td>\n",
       "      <td>yes</td>\n",
       "    </tr>\n",
       "    <tr>\n",
       "      <th>8</th>\n",
       "      <td>&gt;=8</td>\n",
       "      <td>yes</td>\n",
       "      <td>good</td>\n",
       "      <td>good</td>\n",
       "      <td>yes</td>\n",
       "    </tr>\n",
       "    <tr>\n",
       "      <th>9</th>\n",
       "      <td>&gt;=8</td>\n",
       "      <td>yes</td>\n",
       "      <td>average</td>\n",
       "      <td>good</td>\n",
       "      <td>yes</td>\n",
       "    </tr>\n",
       "  </tbody>\n",
       "</table>\n",
       "</div>"
      ],
      "text/plain": [
       "  CGPA Intractiveness Practical Knowledge Communication skill Job offer\n",
       "0  >=9            yes           very good                good       yes\n",
       "1  >=8             no                good            moderate       yes\n",
       "2  >=9             no             average                poor        no\n",
       "3   <8             no             average                good        no\n",
       "4  >=8            yes                good            moderate       yes\n",
       "5  >=9            yes                good            moderate       yes\n",
       "6   <8            yes                good                poor        no\n",
       "7  >=9             no           very good                good       yes\n",
       "8  >=8            yes                good                good       yes\n",
       "9  >=8            yes             average                good       yes"
      ]
     },
     "execution_count": 3,
     "metadata": {},
     "output_type": "execute_result"
    }
   ],
   "source": [
    "import pandas as pd\n",
    "\n",
    "data = pd.read_csv(\"../Datasets/train-data.csv\")"
   ]
  },
  {
   "cell_type": "code",
   "execution_count": null,
   "metadata": {},
   "outputs": [],
   "source": []
  }
 ],
 "metadata": {
  "kernelspec": {
   "display_name": "Python 3",
   "language": "python",
   "name": "python3"
  },
  "language_info": {
   "codemirror_mode": {
    "name": "ipython",
    "version": 3
   },
   "file_extension": ".py",
   "mimetype": "text/x-python",
   "name": "python",
   "nbconvert_exporter": "python",
   "pygments_lexer": "ipython3",
   "version": "3.8.5"
  }
 },
 "nbformat": 4,
 "nbformat_minor": 5
}
