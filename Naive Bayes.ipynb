{
 "cells": [
  {
   "cell_type": "code",
   "execution_count": 1,
   "metadata": {},
   "outputs": [],
   "source": [
    "import pandas as pd"
   ]
  },
  {
   "cell_type": "code",
   "execution_count": 34,
   "metadata": {},
   "outputs": [],
   "source": [
    "class NaiveBayes:\n",
    "    \n",
    "    def fit(self, data, target):\n",
    "        \n",
    "        self.features = data.drop(target, axis=1)\n",
    "        self.target = target\n",
    "        self.target_labels = data[target].unique()\n",
    "        \n",
    "        self.class_counts = data[target].value_counts()\n",
    "        self.class_probs = {}\n",
    "        \n",
    "        for label in self.target_labels:\n",
    "            \n",
    "            self.class_probs[label] = round(self.class_counts[label]/data.shape[0],2)\n",
    "        \n",
    "        self.freq_mats = {}\n",
    "        \n",
    "        for feature in self.features:\n",
    "            \n",
    "            values = data[feature].unique()\n",
    "            freq_mat = pd.DataFrame(columns = self.target_labels, index = values)\n",
    "            \n",
    "            for value in values:\n",
    "                \n",
    "                filtered_data = data[data[feature]==value]\n",
    "                class_counts = filtered_data[self.target].value_counts()\n",
    "                probs = {}\n",
    "                \n",
    "                for label in self.target_labels:\n",
    "                    \n",
    "                    if label in filtered_data[self.target].unique():\n",
    "                        probs[label] = round(class_counts[label]/self.class_counts[label],2)\n",
    "                    else:\n",
    "                        probs[label] = 0                        \n",
    "                \n",
    "                freq_mat.loc[value] = probs\n",
    "            \n",
    "            print(freq_mat,'\\n')\n",
    "            \n",
    "            self.freq_mats[feature] = freq_mat  \n",
    "        \n",
    "    \n",
    "    def predict(self, data):\n",
    "        \n",
    "        for i in range(data.shape[0]):\n",
    "            \n",
    "            class_probs = {}\n",
    "            \n",
    "            for feature in self.features:\n",
    "                \n",
    "                for label in self.target_labels:\n",
    "                    \n",
    "                    if label in class_probs.keys():\n",
    "                        class_probs[label] *= self.freq_mats[feature].loc[data.iloc[i][feature]][label]\n",
    "                    else:\n",
    "                        class_probs[label] = self.freq_mats[feature].loc[data.iloc[i][feature]][label]\n",
    "            \n",
    "            for label in self.target_labels:\n",
    "                \n",
    "                class_probs[label] *= self.class_probs[label]\n",
    "            \n",
    "        \n",
    "            print(class_probs)\n",
    "            max_prob = -1000\n",
    "            belongs_to = ''\n",
    "            \n",
    "            for label in self.target_labels:\n",
    "                \n",
    "                if class_probs[label] > max_prob:\n",
    "                    max_prob = class_probs[label]\n",
    "                    belongs_to = label\n",
    "                    \n",
    "            print(f\"Sample belongs to : {belongs_to} class\\n\")\n",
    "            \n",
    "                \n",
    "            "
   ]
  },
  {
   "cell_type": "code",
   "execution_count": 35,
   "metadata": {},
   "outputs": [],
   "source": [
    "data = pd.read_csv(\"./Datasets/data 2.csv\")"
   ]
  },
  {
   "cell_type": "code",
   "execution_count": 36,
   "metadata": {},
   "outputs": [
    {
     "data": {
      "text/html": [
       "<div>\n",
       "<style scoped>\n",
       "    .dataframe tbody tr th:only-of-type {\n",
       "        vertical-align: middle;\n",
       "    }\n",
       "\n",
       "    .dataframe tbody tr th {\n",
       "        vertical-align: top;\n",
       "    }\n",
       "\n",
       "    .dataframe thead th {\n",
       "        text-align: right;\n",
       "    }\n",
       "</style>\n",
       "<table border=\"1\" class=\"dataframe\">\n",
       "  <thead>\n",
       "    <tr style=\"text-align: right;\">\n",
       "      <th></th>\n",
       "      <th>Outlook</th>\n",
       "      <th>Temperature</th>\n",
       "      <th>Humidity</th>\n",
       "      <th>Wind</th>\n",
       "      <th>Play Tennis</th>\n",
       "    </tr>\n",
       "  </thead>\n",
       "  <tbody>\n",
       "    <tr>\n",
       "      <th>0</th>\n",
       "      <td>Sunny</td>\n",
       "      <td>Hot</td>\n",
       "      <td>High</td>\n",
       "      <td>Weak</td>\n",
       "      <td>No</td>\n",
       "    </tr>\n",
       "    <tr>\n",
       "      <th>1</th>\n",
       "      <td>Sunny</td>\n",
       "      <td>Hot</td>\n",
       "      <td>High</td>\n",
       "      <td>Strong</td>\n",
       "      <td>No</td>\n",
       "    </tr>\n",
       "    <tr>\n",
       "      <th>2</th>\n",
       "      <td>Overcast</td>\n",
       "      <td>Hot</td>\n",
       "      <td>High</td>\n",
       "      <td>Weak</td>\n",
       "      <td>Yes</td>\n",
       "    </tr>\n",
       "    <tr>\n",
       "      <th>3</th>\n",
       "      <td>Rain</td>\n",
       "      <td>Mild</td>\n",
       "      <td>High</td>\n",
       "      <td>Weak</td>\n",
       "      <td>Yes</td>\n",
       "    </tr>\n",
       "    <tr>\n",
       "      <th>4</th>\n",
       "      <td>Rain</td>\n",
       "      <td>Cool</td>\n",
       "      <td>Normal</td>\n",
       "      <td>Weak</td>\n",
       "      <td>Yes</td>\n",
       "    </tr>\n",
       "  </tbody>\n",
       "</table>\n",
       "</div>"
      ],
      "text/plain": [
       "    Outlook Temperature Humidity    Wind Play Tennis\n",
       "0     Sunny         Hot     High    Weak          No\n",
       "1     Sunny         Hot     High  Strong          No\n",
       "2  Overcast         Hot     High    Weak         Yes\n",
       "3      Rain        Mild     High    Weak         Yes\n",
       "4      Rain        Cool   Normal    Weak         Yes"
      ]
     },
     "execution_count": 36,
     "metadata": {},
     "output_type": "execute_result"
    }
   ],
   "source": [
    "data.head()"
   ]
  },
  {
   "cell_type": "code",
   "execution_count": 37,
   "metadata": {},
   "outputs": [],
   "source": [
    "model = NaiveBayes()"
   ]
  },
  {
   "cell_type": "code",
   "execution_count": 38,
   "metadata": {},
   "outputs": [
    {
     "name": "stdout",
     "output_type": "stream",
     "text": [
      "           No   Yes\n",
      "Sunny     0.6  0.22\n",
      "Overcast    0  0.44\n",
      "Rain      0.4  0.33 \n",
      "\n",
      "       No   Yes\n",
      "Hot   0.4  0.22\n",
      "Mild  0.4  0.44\n",
      "Cool  0.2  0.33 \n",
      "\n",
      "         No   Yes\n",
      "High    0.8  0.33\n",
      "Normal  0.2  0.67 \n",
      "\n",
      "         No   Yes\n",
      "Weak    0.4  0.67\n",
      "Strong  0.6  0.33 \n",
      "\n"
     ]
    }
   ],
   "source": [
    "model.fit(data,\"Play Tennis\")"
   ]
  },
  {
   "cell_type": "code",
   "execution_count": 39,
   "metadata": {},
   "outputs": [],
   "source": [
    "test = data[1:3]"
   ]
  },
  {
   "cell_type": "code",
   "execution_count": 40,
   "metadata": {},
   "outputs": [
    {
     "data": {
      "text/html": [
       "<div>\n",
       "<style scoped>\n",
       "    .dataframe tbody tr th:only-of-type {\n",
       "        vertical-align: middle;\n",
       "    }\n",
       "\n",
       "    .dataframe tbody tr th {\n",
       "        vertical-align: top;\n",
       "    }\n",
       "\n",
       "    .dataframe thead th {\n",
       "        text-align: right;\n",
       "    }\n",
       "</style>\n",
       "<table border=\"1\" class=\"dataframe\">\n",
       "  <thead>\n",
       "    <tr style=\"text-align: right;\">\n",
       "      <th></th>\n",
       "      <th>Outlook</th>\n",
       "      <th>Temperature</th>\n",
       "      <th>Humidity</th>\n",
       "      <th>Wind</th>\n",
       "      <th>Play Tennis</th>\n",
       "    </tr>\n",
       "  </thead>\n",
       "  <tbody>\n",
       "    <tr>\n",
       "      <th>1</th>\n",
       "      <td>Sunny</td>\n",
       "      <td>Hot</td>\n",
       "      <td>High</td>\n",
       "      <td>Strong</td>\n",
       "      <td>No</td>\n",
       "    </tr>\n",
       "    <tr>\n",
       "      <th>2</th>\n",
       "      <td>Overcast</td>\n",
       "      <td>Hot</td>\n",
       "      <td>High</td>\n",
       "      <td>Weak</td>\n",
       "      <td>Yes</td>\n",
       "    </tr>\n",
       "  </tbody>\n",
       "</table>\n",
       "</div>"
      ],
      "text/plain": [
       "    Outlook Temperature Humidity    Wind Play Tennis\n",
       "1     Sunny         Hot     High  Strong          No\n",
       "2  Overcast         Hot     High    Weak         Yes"
      ]
     },
     "execution_count": 40,
     "metadata": {},
     "output_type": "execute_result"
    }
   ],
   "source": [
    "test"
   ]
  },
  {
   "cell_type": "code",
   "execution_count": 41,
   "metadata": {},
   "outputs": [
    {
     "name": "stdout",
     "output_type": "stream",
     "text": [
      "{'No': 0.041471999999999995, 'Yes': 0.0033732864}\n",
      "Sample belongs to : No class\n",
      "\n",
      "{'No': 0.0, 'Yes': 0.013697587200000002}\n",
      "Sample belongs to : Yes class\n",
      "\n"
     ]
    }
   ],
   "source": [
    "model.predict(test)"
   ]
  },
  {
   "cell_type": "code",
   "execution_count": null,
   "metadata": {},
   "outputs": [],
   "source": []
  },
  {
   "cell_type": "code",
   "execution_count": null,
   "metadata": {},
   "outputs": [],
   "source": []
  }
 ],
 "metadata": {
  "kernelspec": {
   "display_name": "Python 3",
   "language": "python",
   "name": "python3"
  },
  "language_info": {
   "codemirror_mode": {
    "name": "ipython",
    "version": 3
   },
   "file_extension": ".py",
   "mimetype": "text/x-python",
   "name": "python",
   "nbconvert_exporter": "python",
   "pygments_lexer": "ipython3",
   "version": "3.8.5"
  }
 },
 "nbformat": 4,
 "nbformat_minor": 4
}
