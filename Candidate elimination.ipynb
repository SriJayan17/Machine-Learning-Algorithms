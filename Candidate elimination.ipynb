{
 "cells": [
  {
   "cell_type": "code",
   "execution_count": 1,
   "metadata": {},
   "outputs": [],
   "source": [
    "import pandas as pd"
   ]
  },
  {
   "cell_type": "code",
   "execution_count": 2,
   "metadata": {},
   "outputs": [],
   "source": [
    "class Candidate_Elimination:\n",
    "    \n",
    "    def __init__(self, number_of_features):\n",
    "        \n",
    "        self.specific_hypothesis = ['0']* number_of_features\n",
    "        \n",
    "        self.general_hypothesis = [['?']* number_of_features]\n",
    "    \n",
    "    def generate_hypothesis(self,data,target,positive_label):\n",
    "        \n",
    "        for i in range(data.shape[0]):\n",
    "            \n",
    "            if data.iloc[i][target] == positive_label:\n",
    "                \n",
    "                for j in range(data.shape[1]-1):\n",
    "                    \n",
    "                    if self.specific_hypothesis[j] == '0':\n",
    "                        self.specific_hypothesis[j] = data.iloc[i][j]\n",
    "                        \n",
    "                    elif self.specific_hypothesis[j] != data.iloc[i][j]:\n",
    "                        self.specific_hypothesis[j] = '?'\n",
    "                        \n",
    "            else:\n",
    "                \n",
    "                temp = []\n",
    "                curr = list(self.general_hypothesis)\n",
    "                \n",
    "                for j in range(data.shape[1]-1):\n",
    "                    \n",
    "                    if self.specific_hypothesis[j] !='?' and data.iloc[i][j] != self.specific_hypothesis[j]:\n",
    "                        \n",
    "                        for k in range(len(curr)):\n",
    "                            \n",
    "                            hyp = list(curr[k])\n",
    "                            hyp[j] = self.specific_hypothesis[j]\n",
    "                            temp.append(hyp)\n",
    "                    \n",
    "                    self.general_hypothesis = temp\n",
    "            \n",
    "            for i in range(len(self.general_hypothesis)):\n",
    "                \n",
    "                for j in range(len(self.specific_hypothesis)):\n",
    "                    \n",
    "                    if self.general_hypothesis[i][j] != '?' and self.specific_hypothesis[j] != self.general_hypothesis[i][j]:\n",
    "                        \n",
    "                        self.general_hypothesis[i][j] = '?'\n",
    "                        \n",
    "                        if self.general_hypothesis[i].count('?') == len(self.general_hypothesis[i]):\n",
    "                            self.general_hypothesis.pop(i)\n",
    "                \n",
    "            print(f\"S{i} : {self.specific_hypothesis}\")\n",
    "            print(f\"G{i} : {self.general_hypothesis}\")\n",
    "        \n",
    "        return self.specific_hypothesis, self.general_hypothesis\n",
    "                \n",
    "                "
   ]
  },
  {
   "cell_type": "code",
   "execution_count": 3,
   "metadata": {},
   "outputs": [],
   "source": [
    "data = pd.read_csv(\"./Datasets/data 1.csv\")"
   ]
  },
  {
   "cell_type": "code",
   "execution_count": 4,
   "metadata": {},
   "outputs": [],
   "source": [
    "ce = Candidate_Elimination(6)"
   ]
  },
  {
   "cell_type": "code",
   "execution_count": 5,
   "metadata": {},
   "outputs": [
    {
     "name": "stdout",
     "output_type": "stream",
     "text": [
      "S0 : ['Sunny', 'Warm', 'Normal', 'Strong', 'Warm', 'Same']\n",
      "G0 : [['?', '?', '?', '?', '?', '?']]\n",
      "S0 : ['Sunny', 'Warm', '?', 'Strong', 'Warm', 'Same']\n",
      "G0 : [['?', '?', '?', '?', '?', '?']]\n",
      "S2 : ['Sunny', 'Warm', '?', 'Strong', 'Warm', 'Same']\n",
      "G2 : [['Sunny', '?', '?', '?', '?', '?'], ['?', 'Warm', '?', '?', '?', '?'], ['?', '?', '?', '?', '?', 'Same']]\n",
      "S2 : ['Sunny', 'Warm', '?', 'Strong', '?', '?']\n",
      "G2 : [['Sunny', '?', '?', '?', '?', '?'], ['?', 'Warm', '?', '?', '?', '?']]\n"
     ]
    },
    {
     "data": {
      "text/plain": [
       "(['Sunny', 'Warm', '?', 'Strong', '?', '?'],\n",
       " [['Sunny', '?', '?', '?', '?', '?'], ['?', 'Warm', '?', '?', '?', '?']])"
      ]
     },
     "execution_count": 5,
     "metadata": {},
     "output_type": "execute_result"
    }
   ],
   "source": [
    "ce.generate_hypothesis(data,\"Enjoy Sports\", \"Yes\")"
   ]
  },
  {
   "cell_type": "code",
   "execution_count": null,
   "metadata": {},
   "outputs": [],
   "source": []
  },
  {
   "cell_type": "code",
   "execution_count": null,
   "metadata": {},
   "outputs": [],
   "source": []
  },
  {
   "cell_type": "code",
   "execution_count": null,
   "metadata": {},
   "outputs": [],
   "source": []
  }
 ],
 "metadata": {
  "kernelspec": {
   "display_name": "Python 3",
   "language": "python",
   "name": "python3"
  },
  "language_info": {
   "codemirror_mode": {
    "name": "ipython",
    "version": 3
   },
   "file_extension": ".py",
   "mimetype": "text/x-python",
   "name": "python",
   "nbconvert_exporter": "python",
   "pygments_lexer": "ipython3",
   "version": "3.8.5"
  }
 },
 "nbformat": 4,
 "nbformat_minor": 4
}
