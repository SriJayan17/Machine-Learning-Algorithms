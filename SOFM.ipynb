{
 "cells": [
  {
   "cell_type": "code",
   "execution_count": 1,
   "metadata": {},
   "outputs": [],
   "source": [
    "import numpy as np"
   ]
  },
  {
   "cell_type": "code",
   "execution_count": 33,
   "metadata": {},
   "outputs": [],
   "source": [
    "class SOFM:\n",
    "    \n",
    "    def __init__(self,lr):\n",
    "        \n",
    "        self.lr = lr\n",
    "        \n",
    "    def eucledian(self, sample, weight):\n",
    "        \n",
    "        return np.sqrt(np.sum(np.square(np.subtract(sample,weight))))\n",
    "    \n",
    "    def update_weight(self, ind, sample):\n",
    "        \n",
    "        self.weights[ind] += self.lr * np.subtract(sample,self.weights[ind])\n",
    "    \n",
    "    def train(self, samples, weights):\n",
    "        \n",
    "        self.samples = samples\n",
    "        self.weights = weights\n",
    "        for i in range(samples.shape[0]):\n",
    "            \n",
    "            min_dist = 1000000\n",
    "            min_ind = 0\n",
    "            \n",
    "            for j in range(weights.shape[0]):\n",
    "                    \n",
    "                dist = self.eucledian(samples[i],weights[j])\n",
    "                \n",
    "                if dist < min_dist:\n",
    "                    \n",
    "                    min_dist = dist\n",
    "                    min_ind = j\n",
    "                    \n",
    "            self.update_weight(min_ind, samples[i])\n",
    "        \n",
    "        print(self.weights)\n",
    "            \n",
    "                "
   ]
  },
  {
   "cell_type": "code",
   "execution_count": 34,
   "metadata": {},
   "outputs": [],
   "source": [
    "samples = np.array([[1,1,0,0],[0,0,0,1],[1,0,0,0],[0,0,1,1]])\n",
    "weights = np.array([[0.2,0.6,0.5,0.9],[0.8,0.4,0.7,0.3]])"
   ]
  },
  {
   "cell_type": "code",
   "execution_count": 35,
   "metadata": {},
   "outputs": [],
   "source": [
    "model = SOFM(0.6)"
   ]
  },
  {
   "cell_type": "code",
   "execution_count": 36,
   "metadata": {},
   "outputs": [
    {
     "name": "stdout",
     "output_type": "stream",
     "text": [
      "[[0.032 0.096 0.68  0.984]\n",
      " [0.968 0.304 0.112 0.048]]\n"
     ]
    }
   ],
   "source": [
    "model.train(samples, weights)"
   ]
  },
  {
   "cell_type": "code",
   "execution_count": null,
   "metadata": {},
   "outputs": [],
   "source": []
  }
 ],
 "metadata": {
  "kernelspec": {
   "display_name": "Python 3",
   "language": "python",
   "name": "python3"
  },
  "language_info": {
   "codemirror_mode": {
    "name": "ipython",
    "version": 3
   },
   "file_extension": ".py",
   "mimetype": "text/x-python",
   "name": "python",
   "nbconvert_exporter": "python",
   "pygments_lexer": "ipython3",
   "version": "3.8.5"
  }
 },
 "nbformat": 4,
 "nbformat_minor": 4
}
