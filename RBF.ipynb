{
 "cells": [
  {
   "cell_type": "code",
   "execution_count": 1,
   "metadata": {},
   "outputs": [],
   "source": [
    "import numpy as np\n",
    "import matplotlib.pyplot as plt"
   ]
  },
  {
   "cell_type": "code",
   "execution_count": 2,
   "metadata": {},
   "outputs": [],
   "source": [
    "class RBF:\n",
    "    \n",
    "    def __init__(self, hidden_shape, sigma):\n",
    "        \n",
    "        self.hidden_shape = hidden_shape\n",
    "        self.sigma = sigma\n",
    "    \n",
    "    def kernal_function(self, center, datapoint):\n",
    "        \n",
    "        return np.exp(-self.sigma * np.linalg.norm(center-datapoint)**2)\n",
    "    \n",
    "    def generate_interpollation_matrix(self, X):\n",
    "        \n",
    "        G = np.zeros((X.shape[0], self.hidden_shape))\n",
    "        \n",
    "        for i, datapoint in enumerate(X):\n",
    "            \n",
    "            for j, center in enumerate(self.centers):\n",
    "                \n",
    "                G[i][j] = self.kernal_function(center, datapoint)\n",
    "        \n",
    "        return G\n",
    "    \n",
    "    def select_centers(self, X):\n",
    "        \n",
    "        args = np.random.choice(X.shape[0], self.hidden_shape)\n",
    "        \n",
    "        centers = X[args]\n",
    "        \n",
    "        return centers\n",
    "    \n",
    "    def fit(self, X, y):\n",
    "        \n",
    "        self.centers = self.select_centers(X)\n",
    "        G = self.generate_interpollation_matrix(X)\n",
    "        self.weights = np.dot(np.linalg.pinv(G), y)\n",
    "    \n",
    "    def predict(self, X):\n",
    "        \n",
    "        G = self.generate_interpollation_matrix(X)\n",
    "        y_preds = np.dot(G, self.weights)\n",
    "        \n",
    "        return y_preds\n"
   ]
  },
  {
   "cell_type": "code",
   "execution_count": 3,
   "metadata": {},
   "outputs": [],
   "source": [
    "X = np.linspace(0,10,100)\n",
    "y = np.cos(X)"
   ]
  },
  {
   "cell_type": "code",
   "execution_count": 4,
   "metadata": {},
   "outputs": [],
   "source": [
    "model = RBF(hidden_shape=10, sigma=1)"
   ]
  },
  {
   "cell_type": "code",
   "execution_count": 5,
   "metadata": {},
   "outputs": [],
   "source": [
    "model.fit(X, y)"
   ]
  },
  {
   "cell_type": "code",
   "execution_count": 6,
   "metadata": {},
   "outputs": [],
   "source": [
    "y_preds = model.predict(X)"
   ]
  },
  {
   "cell_type": "code",
   "execution_count": 11,
   "metadata": {},
   "outputs": [
    {
     "data": {
      "text/plain": [
       "[<matplotlib.lines.Line2D at 0x1ea4a4a9250>]"
      ]
     },
     "execution_count": 11,
     "metadata": {},
     "output_type": "execute_result"
    },
    {
     "data": {
      "image/png": "[encoded data removed]",
      "text/plain": [
       "<Figure size 432x288 with 1 Axes>"
      ]
     },
     "metadata": {
      "needs_background": "light"
     },
     "output_type": "display_data"
    }
   ],
   "source": [
    "fig, ax = plt.subplots()\n",
    "\n",
    "ax.plot(X, y, c=\"blue\")\n",
    "ax.plot(X, y_preds, c=\"red\")"
   ]
  },
  {
   "cell_type": "code",
   "execution_count": null,
   "metadata": {},
   "outputs": [],
   "source": []
  }
 ],
 "metadata": {
  "kernelspec": {
   "display_name": "Python 3",
   "language": "python",
   "name": "python3"
  },
  "language_info": {
   "codemirror_mode": {
    "name": "ipython",
    "version": 3
   },
   "file_extension": ".py",
   "mimetype": "text/x-python",
   "name": "python",
   "nbconvert_exporter": "python",
   "pygments_lexer": "ipython3",
   "version": "3.8.5"
  }
 },
 "nbformat": 4,
 "nbformat_minor": 4
}
