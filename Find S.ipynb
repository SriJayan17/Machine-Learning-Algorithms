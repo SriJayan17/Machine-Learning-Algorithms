{
 "cells": [
  {
   "cell_type": "code",
   "execution_count": 1,
   "metadata": {},
   "outputs": [],
   "source": [
    "import pandas as pd"
   ]
  },
  {
   "cell_type": "code",
   "execution_count": 2,
   "metadata": {},
   "outputs": [],
   "source": [
    "class Find_S:\n",
    "    def __init__(self,number_of_features):\n",
    "        \n",
    "        self.specific_hypothesis = ['0']*number_of_features\n",
    "    \n",
    "    def maximaly_specific_hypothesis(self, data, target, positive_label):\n",
    "        \n",
    "        print(f\"H0 : {self.specific_hypothesis}\\n\")\n",
    "        for i in range(data.shape[0]):\n",
    "                    \n",
    "            if data.iloc[i][target] == positive_label:\n",
    "                \n",
    "                for j in range(data.drop(target,axis=1).shape[1]):\n",
    "\n",
    "                    if self.specific_hypothesis[j] == '0':\n",
    "                        self.specific_hypothesis[j] = data.iloc[i][j]\n",
    "\n",
    "                    elif data.iloc[i][j] != self.specific_hypothesis[j]:\n",
    "                        self.specific_hypothesis[j] = '?'\n",
    "                        \n",
    "            print(f\"H{i+1} : {self.specific_hypothesis}\")\n",
    "        \n",
    "        return self.specific_hypothesis         "
   ]
  },
  {
   "cell_type": "code",
   "execution_count": 3,
   "metadata": {},
   "outputs": [],
   "source": [
    "data = pd.read_csv(\"./Datasets/data 1.csv\")"
   ]
  },
  {
   "cell_type": "code",
   "execution_count": 4,
   "metadata": {},
   "outputs": [
    {
     "data": {
      "text/html": [
       "<div>\n",
       "<style scoped>\n",
       "    .dataframe tbody tr th:only-of-type {\n",
       "        vertical-align: middle;\n",
       "    }\n",
       "\n",
       "    .dataframe tbody tr th {\n",
       "        vertical-align: top;\n",
       "    }\n",
       "\n",
       "    .dataframe thead th {\n",
       "        text-align: right;\n",
       "    }\n",
       "</style>\n",
       "<table border=\"1\" class=\"dataframe\">\n",
       "  <thead>\n",
       "    <tr style=\"text-align: right;\">\n",
       "      <th></th>\n",
       "      <th>Sky</th>\n",
       "      <th>Air Temperature</th>\n",
       "      <th>Humidity</th>\n",
       "      <th>Wind</th>\n",
       "      <th>Water</th>\n",
       "      <th>Forecast</th>\n",
       "      <th>Enjoy Sports</th>\n",
       "    </tr>\n",
       "  </thead>\n",
       "  <tbody>\n",
       "    <tr>\n",
       "      <th>0</th>\n",
       "      <td>Sunny</td>\n",
       "      <td>Warm</td>\n",
       "      <td>Normal</td>\n",
       "      <td>Strong</td>\n",
       "      <td>Warm</td>\n",
       "      <td>Same</td>\n",
       "      <td>Yes</td>\n",
       "    </tr>\n",
       "    <tr>\n",
       "      <th>1</th>\n",
       "      <td>Sunny</td>\n",
       "      <td>Warm</td>\n",
       "      <td>High</td>\n",
       "      <td>Strong</td>\n",
       "      <td>Warm</td>\n",
       "      <td>Same</td>\n",
       "      <td>Yes</td>\n",
       "    </tr>\n",
       "    <tr>\n",
       "      <th>2</th>\n",
       "      <td>Rainy</td>\n",
       "      <td>Cold</td>\n",
       "      <td>High</td>\n",
       "      <td>Strong</td>\n",
       "      <td>Warm</td>\n",
       "      <td>Change</td>\n",
       "      <td>No</td>\n",
       "    </tr>\n",
       "    <tr>\n",
       "      <th>3</th>\n",
       "      <td>Sunny</td>\n",
       "      <td>Warm</td>\n",
       "      <td>High</td>\n",
       "      <td>Strong</td>\n",
       "      <td>Cool</td>\n",
       "      <td>Change</td>\n",
       "      <td>Yes</td>\n",
       "    </tr>\n",
       "  </tbody>\n",
       "</table>\n",
       "</div>"
      ],
      "text/plain": [
       "     Sky Air Temperature Humidity    Wind Water Forecast Enjoy Sports\n",
       "0  Sunny            Warm   Normal  Strong  Warm     Same          Yes\n",
       "1  Sunny            Warm     High  Strong  Warm     Same          Yes\n",
       "2  Rainy            Cold     High  Strong  Warm   Change           No\n",
       "3  Sunny            Warm     High  Strong  Cool   Change          Yes"
      ]
     },
     "execution_count": 4,
     "metadata": {},
     "output_type": "execute_result"
    }
   ],
   "source": [
    "data.head()"
   ]
  },
  {
   "cell_type": "code",
   "execution_count": 5,
   "metadata": {},
   "outputs": [],
   "source": [
    "find_s = Find_S(6)"
   ]
  },
  {
   "cell_type": "code",
   "execution_count": 6,
   "metadata": {},
   "outputs": [
    {
     "name": "stdout",
     "output_type": "stream",
     "text": [
      "H0 : ['0', '0', '0', '0', '0', '0']\n",
      "\n",
      "H1 : ['Sunny', 'Warm', 'Normal', 'Strong', 'Warm', 'Same']\n",
      "H2 : ['Sunny', 'Warm', '?', 'Strong', 'Warm', 'Same']\n",
      "H3 : ['Sunny', 'Warm', '?', 'Strong', 'Warm', 'Same']\n",
      "H4 : ['Sunny', 'Warm', '?', 'Strong', '?', '?']\n"
     ]
    },
    {
     "data": {
      "text/plain": [
       "['Sunny', 'Warm', '?', 'Strong', '?', '?']"
      ]
     },
     "execution_count": 6,
     "metadata": {},
     "output_type": "execute_result"
    }
   ],
   "source": [
    "find_s.maximaly_specific_hypothesis(data,\"Enjoy Sports\", \"Yes\")"
   ]
  },
  {
   "cell_type": "code",
   "execution_count": null,
   "metadata": {},
   "outputs": [],
   "source": []
  }
 ],
 "metadata": {
  "kernelspec": {
   "display_name": "Python 3",
   "language": "python",
   "name": "python3"
  },
  "language_info": {
   "codemirror_mode": {
    "name": "ipython",
    "version": 3
   },
   "file_extension": ".py",
   "mimetype": "text/x-python",
   "name": "python",
   "nbconvert_exporter": "python",
   "pygments_lexer": "ipython3",
   "version": "3.8.5"
  }
 },
 "nbformat": 4,
 "nbformat_minor": 4
}
