{
 "cells": [
  {
   "cell_type": "code",
   "execution_count": 1,
   "metadata": {},
   "outputs": [],
   "source": [
    "import numpy as np"
   ]
  },
  {
   "cell_type": "code",
   "execution_count": 2,
   "metadata": {},
   "outputs": [],
   "source": [
    "class Perceptron:\n",
    "    \n",
    "    def __init__(self,lr):\n",
    "        \n",
    "        self.lr = lr\n",
    "        \n",
    "    def  h(self, x):\n",
    "        \n",
    "        return 1 if x>0 else 0\n",
    "    \n",
    "    def update_weights(self, error, ind):\n",
    "        \n",
    "        for i in range(self.weights.shape[0]):\n",
    "            \n",
    "            self.weights[i] += self.lr * error * self.inputs[ind][i]\n",
    "        \n",
    "    def train(self,inputs,outputs,weights,bias_input, bias_weight):\n",
    "        \n",
    "        self.inputs = inputs\n",
    "        self.outputs = outputs\n",
    "        self.weights = weights\n",
    "        self.bias_input = bias_input\n",
    "        self.bias_weight = bias_weight\n",
    "        \n",
    "        iteration = 0\n",
    "        \n",
    "        while True:\n",
    "            \n",
    "            iteration += 1\n",
    "            error = [0] * self.outputs.shape[0]\n",
    "            \n",
    "            for i in range(self.inputs.shape[0]):\n",
    "\n",
    "                ipsum = np.sum(np.dot(self.inputs[i],self.weights)) + self.bias_input * self.bias_weight\n",
    "\n",
    "                ypred = self.h(ipsum)\n",
    "                \n",
    "                if ypred != self.outputs[i]:\n",
    "                    \n",
    "                    error[i] = self.outputs[i] - ypred\n",
    "                    self.update_weights(error[i], i)\n",
    "            \n",
    "            print(f\"\\nWeights after Iteration {iteration} : {self.weights}\")\n",
    "            \n",
    "            if error.count(0) == len(error):\n",
    "                break\n",
    "        \n",
    "        print(f\"\\nFinal Weights : {self.weights}\")       "
   ]
  },
  {
   "cell_type": "code",
   "execution_count": 3,
   "metadata": {},
   "outputs": [],
   "source": [
    "inputs = np.array([[0,0],[0,1],[1,0],[1,1]])\n",
    "outputs = np.array([0,0,0,1])\n",
    "weights = np.array([0.3, -0.2])\n",
    "bias_input = -1\n",
    "bias_weight = 0.4"
   ]
  },
  {
   "cell_type": "code",
   "execution_count": 4,
   "metadata": {},
   "outputs": [],
   "source": [
    "sl_perceptron = Perceptron(0.2)"
   ]
  },
  {
   "cell_type": "code",
   "execution_count": 5,
   "metadata": {},
   "outputs": [
    {
     "name": "stdout",
     "output_type": "stream",
     "text": [
      "\n",
      "Weights after Iteration 1 : [0.5 0. ]\n",
      "\n",
      "Weights after Iteration 2 : [0.5 0.2]\n",
      "\n",
      "Weights after Iteration 3 : [0.3 0.2]\n",
      "\n",
      "Weights after Iteration 4 : [0.3 0.2]\n",
      "\n",
      "Final Weights : [0.3 0.2]\n"
     ]
    }
   ],
   "source": [
    "sl_perceptron.train(inputs,outputs,weights,bias_input,bias_weight)"
   ]
  },
  {
   "cell_type": "code",
   "execution_count": null,
   "metadata": {},
   "outputs": [],
   "source": []
  }
 ],
 "metadata": {
  "kernelspec": {
   "display_name": "Python 3",
   "language": "python",
   "name": "python3"
  },
  "language_info": {
   "codemirror_mode": {
    "name": "ipython",
    "version": 3
   },
   "file_extension": ".py",
   "mimetype": "text/x-python",
   "name": "python",
   "nbconvert_exporter": "python",
   "pygments_lexer": "ipython3",
   "version": "3.8.5"
  }
 },
 "nbformat": 4,
 "nbformat_minor": 4
}
