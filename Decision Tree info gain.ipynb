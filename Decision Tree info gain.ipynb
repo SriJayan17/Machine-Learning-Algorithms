{
 "cells": [
  {
   "cell_type": "code",
   "execution_count": 1,
   "metadata": {},
   "outputs": [],
   "source": [
    "import numpy as np\n",
    "import pandas as pd"
   ]
  },
  {
   "cell_type": "code",
   "execution_count": 2,
   "metadata": {},
   "outputs": [],
   "source": [
    "class Node:\n",
    "    \n",
    "    def __init__(self,node_type, value):\n",
    "        \n",
    "        self.node_type = node_type\n",
    "        \n",
    "        if node_type == \"condition\":\n",
    "            self.attribute = value\n",
    "            self.branches = {}\n",
    "        else:\n",
    "            self.value = value"
   ]
  },
  {
   "cell_type": "code",
   "execution_count": 49,
   "metadata": {},
   "outputs": [],
   "source": [
    "class Decision_Tree:\n",
    "    \n",
    "    def calculate_entropy(self,data, target):\n",
    "        \n",
    "        labels = data[target].unique()\n",
    "        label_count = data[target].value_counts()\n",
    "        \n",
    "        entropy = 0\n",
    "        \n",
    "        for label in labels:\n",
    "            temp = label_count[label]/data.shape[0]\n",
    "            entropy += temp * np.log2(temp)\n",
    "        \n",
    "        return -entropy\n",
    "    \n",
    "    def calculate_gain(self, data, feature, target):\n",
    "        \n",
    "        values = data[feature].unique()\n",
    "        value_counts = data[feature].value_counts()\n",
    "        \n",
    "        gain = 0\n",
    "        \n",
    "        for value in values:\n",
    "            \n",
    "            entropy = self.calculate_entropy(data[data[feature]==value],target)\n",
    "            gain += (value_counts[value]/data.shape[0]) * entropy\n",
    "        \n",
    "        return gain\n",
    "    \n",
    "    def calculate_infogain(self, data, feature, target):\n",
    "        \n",
    "        return self.entropy - self.calculate_gain(data, feature, target)\n",
    "        \n",
    "    def classify(self, data, target):\n",
    "        \n",
    "        self.entropy = self.calculate_entropy(data, target)\n",
    "        self.features = data.drop(target,axis=1).columns\n",
    "        \n",
    "        if len(self.features) == 0:\n",
    "            return\n",
    "        \n",
    "        max_gain = 0\n",
    "        split_attribute = self.features[0]\n",
    "        \n",
    "        for feature in self.features:\n",
    "            \n",
    "            infogain = self.calculate_infogain(data,feature,target)\n",
    "            \n",
    "            if max_gain < infogain:\n",
    "                max_gain = infogain\n",
    "                split_attribute = feature\n",
    "        \n",
    "        feature_values = data[split_attribute].unique()\n",
    "        node = Node(\"condition\",split_attribute)\n",
    "        \n",
    "        print(f\"Condition : {split_attribute}\\nInformantion Gain : {round(max_gain,2)}\\nBranches : {feature_values}\\n\")\n",
    "        \n",
    "        for value in feature_values:\n",
    "            \n",
    "            filtered_data = data[data[split_attribute]==value].drop(split_attribute,axis=1)\n",
    "            \n",
    "            if len(filtered_data[target].unique()) == 1:\n",
    "                print(f\"Result : {filtered_data[target].unique()[0]}\\n\")\n",
    "                node.branches[value] = Node(\"result\",filtered_data[target].unique()[0])\n",
    "            else:\n",
    "                node.branches[value] = self.classify(filtered_data,target)\n",
    "        \n",
    "        return node           \n",
    "    \n",
    "    def predict(self, data, target, root):\n",
    "        \n",
    "        features = data.drop(target,axis=1).columns\n",
    "        results = []\n",
    "        for i in range(data.shape[0]):\n",
    "            \n",
    "            current = root\n",
    "            while True:\n",
    "                \n",
    "                if current.node_type == \"condition\":\n",
    "                    current = current.branches[data.iloc[i][current.attribute]]\n",
    "                else:\n",
    "                    results.append(current.value)\n",
    "                    break\n",
    "        return results"
   ]
  },
  {
   "cell_type": "code",
   "execution_count": 50,
   "metadata": {},
   "outputs": [],
   "source": [
    "class Decision_Tree_Classifier:\n",
    "    \n",
    "    def __init__(self):\n",
    "        \n",
    "        self.model = Decision_Tree()\n",
    "    \n",
    "    def fit(self, data, target):\n",
    "        \n",
    "        self.root = self.model.classify(data, target)\n",
    "    \n",
    "    def predict(self,data, target):\n",
    "        \n",
    "        return self.model.predict(data, target, self.root)\n",
    "        "
   ]
  },
  {
   "cell_type": "code",
   "execution_count": 51,
   "metadata": {},
   "outputs": [],
   "source": [
    "data = pd.read_csv(\"./Datasets/data 2.csv\")"
   ]
  },
  {
   "cell_type": "code",
   "execution_count": 52,
   "metadata": {},
   "outputs": [
    {
     "data": {
      "text/html": [
       "<div>\n",
       "<style scoped>\n",
       "    .dataframe tbody tr th:only-of-type {\n",
       "        vertical-align: middle;\n",
       "    }\n",
       "\n",
       "    .dataframe tbody tr th {\n",
       "        vertical-align: top;\n",
       "    }\n",
       "\n",
       "    .dataframe thead th {\n",
       "        text-align: right;\n",
       "    }\n",
       "</style>\n",
       "<table border=\"1\" class=\"dataframe\">\n",
       "  <thead>\n",
       "    <tr style=\"text-align: right;\">\n",
       "      <th></th>\n",
       "      <th>Outlook</th>\n",
       "      <th>Temperature</th>\n",
       "      <th>Humidity</th>\n",
       "      <th>Wind</th>\n",
       "      <th>Play Tennis</th>\n",
       "    </tr>\n",
       "  </thead>\n",
       "  <tbody>\n",
       "    <tr>\n",
       "      <th>0</th>\n",
       "      <td>Sunny</td>\n",
       "      <td>Hot</td>\n",
       "      <td>High</td>\n",
       "      <td>Weak</td>\n",
       "      <td>No</td>\n",
       "    </tr>\n",
       "    <tr>\n",
       "      <th>1</th>\n",
       "      <td>Sunny</td>\n",
       "      <td>Hot</td>\n",
       "      <td>High</td>\n",
       "      <td>Strong</td>\n",
       "      <td>No</td>\n",
       "    </tr>\n",
       "    <tr>\n",
       "      <th>2</th>\n",
       "      <td>Overcast</td>\n",
       "      <td>Hot</td>\n",
       "      <td>High</td>\n",
       "      <td>Weak</td>\n",
       "      <td>Yes</td>\n",
       "    </tr>\n",
       "    <tr>\n",
       "      <th>3</th>\n",
       "      <td>Rain</td>\n",
       "      <td>Mild</td>\n",
       "      <td>High</td>\n",
       "      <td>Weak</td>\n",
       "      <td>Yes</td>\n",
       "    </tr>\n",
       "    <tr>\n",
       "      <th>4</th>\n",
       "      <td>Rain</td>\n",
       "      <td>Cool</td>\n",
       "      <td>Normal</td>\n",
       "      <td>Weak</td>\n",
       "      <td>Yes</td>\n",
       "    </tr>\n",
       "  </tbody>\n",
       "</table>\n",
       "</div>"
      ],
      "text/plain": [
       "    Outlook Temperature Humidity    Wind Play Tennis\n",
       "0     Sunny         Hot     High    Weak          No\n",
       "1     Sunny         Hot     High  Strong          No\n",
       "2  Overcast         Hot     High    Weak         Yes\n",
       "3      Rain        Mild     High    Weak         Yes\n",
       "4      Rain        Cool   Normal    Weak         Yes"
      ]
     },
     "execution_count": 52,
     "metadata": {},
     "output_type": "execute_result"
    }
   ],
   "source": [
    "data.head()"
   ]
  },
  {
   "cell_type": "code",
   "execution_count": 53,
   "metadata": {},
   "outputs": [],
   "source": [
    "model = Decision_Tree_Classifier()"
   ]
  },
  {
   "cell_type": "code",
   "execution_count": 54,
   "metadata": {},
   "outputs": [
    {
     "name": "stdout",
     "output_type": "stream",
     "text": [
      "Condition : Outlook\n",
      "Informantion Gain : 0.25\n",
      "Branches : ['Sunny' 'Overcast' 'Rain']\n",
      "\n",
      "Condition : Humidity\n",
      "Informantion Gain : 0.97\n",
      "Branches : ['High' 'Normal']\n",
      "\n",
      "Result : No\n",
      "\n",
      "Result : Yes\n",
      "\n",
      "Result : Yes\n",
      "\n",
      "Condition : Wind\n",
      "Informantion Gain : 0.97\n",
      "Branches : ['Weak' 'Strong']\n",
      "\n",
      "Result : Yes\n",
      "\n",
      "Result : No\n",
      "\n"
     ]
    }
   ],
   "source": [
    "model.fit(data,\"Play Tennis\")"
   ]
  },
  {
   "cell_type": "code",
   "execution_count": 55,
   "metadata": {},
   "outputs": [
    {
     "data": {
      "text/plain": [
       "['No', 'No', 'Yes', 'Yes', 'Yes']"
      ]
     },
     "execution_count": 55,
     "metadata": {},
     "output_type": "execute_result"
    }
   ],
   "source": [
    "model.predict(data[0:5],\"Play Tennis\")"
   ]
  },
  {
   "cell_type": "code",
   "execution_count": 56,
   "metadata": {},
   "outputs": [
    {
     "data": {
      "text/html": [
       "<div>\n",
       "<style scoped>\n",
       "    .dataframe tbody tr th:only-of-type {\n",
       "        vertical-align: middle;\n",
       "    }\n",
       "\n",
       "    .dataframe tbody tr th {\n",
       "        vertical-align: top;\n",
       "    }\n",
       "\n",
       "    .dataframe thead th {\n",
       "        text-align: right;\n",
       "    }\n",
       "</style>\n",
       "<table border=\"1\" class=\"dataframe\">\n",
       "  <thead>\n",
       "    <tr style=\"text-align: right;\">\n",
       "      <th></th>\n",
       "      <th>Outlook</th>\n",
       "      <th>Temperature</th>\n",
       "      <th>Humidity</th>\n",
       "      <th>Wind</th>\n",
       "      <th>Play Tennis</th>\n",
       "    </tr>\n",
       "  </thead>\n",
       "  <tbody>\n",
       "    <tr>\n",
       "      <th>0</th>\n",
       "      <td>Sunny</td>\n",
       "      <td>Hot</td>\n",
       "      <td>High</td>\n",
       "      <td>Weak</td>\n",
       "      <td>No</td>\n",
       "    </tr>\n",
       "    <tr>\n",
       "      <th>1</th>\n",
       "      <td>Sunny</td>\n",
       "      <td>Hot</td>\n",
       "      <td>High</td>\n",
       "      <td>Strong</td>\n",
       "      <td>No</td>\n",
       "    </tr>\n",
       "    <tr>\n",
       "      <th>2</th>\n",
       "      <td>Overcast</td>\n",
       "      <td>Hot</td>\n",
       "      <td>High</td>\n",
       "      <td>Weak</td>\n",
       "      <td>Yes</td>\n",
       "    </tr>\n",
       "    <tr>\n",
       "      <th>3</th>\n",
       "      <td>Rain</td>\n",
       "      <td>Mild</td>\n",
       "      <td>High</td>\n",
       "      <td>Weak</td>\n",
       "      <td>Yes</td>\n",
       "    </tr>\n",
       "    <tr>\n",
       "      <th>4</th>\n",
       "      <td>Rain</td>\n",
       "      <td>Cool</td>\n",
       "      <td>Normal</td>\n",
       "      <td>Weak</td>\n",
       "      <td>Yes</td>\n",
       "    </tr>\n",
       "  </tbody>\n",
       "</table>\n",
       "</div>"
      ],
      "text/plain": [
       "    Outlook Temperature Humidity    Wind Play Tennis\n",
       "0     Sunny         Hot     High    Weak          No\n",
       "1     Sunny         Hot     High  Strong          No\n",
       "2  Overcast         Hot     High    Weak         Yes\n",
       "3      Rain        Mild     High    Weak         Yes\n",
       "4      Rain        Cool   Normal    Weak         Yes"
      ]
     },
     "execution_count": 56,
     "metadata": {},
     "output_type": "execute_result"
    }
   ],
   "source": [
    "data[0:5]"
   ]
  },
  {
   "cell_type": "code",
   "execution_count": null,
   "metadata": {},
   "outputs": [],
   "source": []
  },
  {
   "cell_type": "code",
   "execution_count": null,
   "metadata": {},
   "outputs": [],
   "source": []
  }
 ],
 "metadata": {
  "kernelspec": {
   "display_name": "Python 3",
   "language": "python",
   "name": "python3"
  },
  "language_info": {
   "codemirror_mode": {
    "name": "ipython",
    "version": 3
   },
   "file_extension": ".py",
   "mimetype": "text/x-python",
   "name": "python",
   "nbconvert_exporter": "python",
   "pygments_lexer": "ipython3",
   "version": "3.8.5"
  }
 },
 "nbformat": 4,
 "nbformat_minor": 4
}
