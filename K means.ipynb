{
 "cells": [
  {
   "cell_type": "code",
   "execution_count": 2,
   "metadata": {},
   "outputs": [],
   "source": [
    "import pandas as pd\n",
    "import numpy as np"
   ]
  },
  {
   "cell_type": "code",
   "execution_count": 333,
   "metadata": {},
   "outputs": [],
   "source": [
    "class K_Means_Clustering:\n",
    "    \n",
    "    def eucledian_distance(self,p1,p2):\n",
    "        \n",
    "        return np.sqrt(np.square(p1[0]-p2[0]) + np.square(p1[1]-p2[1]))\n",
    "    \n",
    "    def update_centroid(self):\n",
    "        \n",
    "        centroids = []\n",
    "    \n",
    "        for cluster in self.clusters.values():\n",
    "            \n",
    "            temp = np.array(cluster)\n",
    "            centroid = tuple([round(temp[:,0].mean(),2),round(temp[:,1].mean(),2)])\n",
    "            centroids.append(centroid)\n",
    "        \n",
    "        self.centroids = centroids            \n",
    "            \n",
    "    \n",
    "    def cluster(self, data, k):\n",
    "        \n",
    "        self.centroids = []\n",
    "        \n",
    "        for i in range(k):\n",
    "            \n",
    "            while True:\n",
    "                \n",
    "                centroid = tuple(data.iloc[np.random.randint(0,data.shape[0])])\n",
    "                if centroid not in self.centroids:\n",
    "                    self.centroids.append(centroid)\n",
    "                    break\n",
    "        \n",
    "        self.clusters = {}\n",
    "        \n",
    "        for centroid in self.centroids:\n",
    "            \n",
    "            self.clusters[centroid] = []\n",
    "        \n",
    "        while True:\n",
    "            \n",
    "            temp = {}\n",
    "            \n",
    "            for centroid in self.centroids:\n",
    "                temp[centroid] = []\n",
    "            \n",
    "            for i in range(data.shape[0]):\n",
    "                \n",
    "                min_dist = 100\n",
    "                min_centroid = self.centroids[0]\n",
    "                \n",
    "                for centroid in self.centroids:\n",
    "                    \n",
    "                    distance = self.eucledian_distance(centroid, tuple(data.iloc[i]))\n",
    "                    \n",
    "                    if min_dist > distance:\n",
    "                        min_dist = distance\n",
    "                        min_centroid = centroid\n",
    "                \n",
    "                temp[min_centroid].append(tuple(data.iloc[i]))\n",
    "            \n",
    "            \n",
    "            if temp != self.clusters:\n",
    "                self.clusters = temp\n",
    "                self.update_centroid()\n",
    "            else:\n",
    "                break\n",
    "        \n",
    "        print(f\"Final Centroids : {self.centroids}\")\n",
    "        print(f\"Final Clusters : \\n{self.clusters}\")\n",
    "                    \n",
    "                    \n",
    "                    "
   ]
  },
  {
   "cell_type": "code",
   "execution_count": 334,
   "metadata": {},
   "outputs": [],
   "source": [
    "data = [[2,10],[2,5],[8,4],[5,8],[7,5],[6,4],[1,2],[4,9]]"
   ]
  },
  {
   "cell_type": "code",
   "execution_count": 335,
   "metadata": {},
   "outputs": [],
   "source": [
    "data = pd.DataFrame(data, columns=[\"X\",\"Y\"])"
   ]
  },
  {
   "cell_type": "code",
   "execution_count": 336,
   "metadata": {},
   "outputs": [
    {
     "data": {
      "text/html": [
       "<div>\n",
       "<style scoped>\n",
       "    .dataframe tbody tr th:only-of-type {\n",
       "        vertical-align: middle;\n",
       "    }\n",
       "\n",
       "    .dataframe tbody tr th {\n",
       "        vertical-align: top;\n",
       "    }\n",
       "\n",
       "    .dataframe thead th {\n",
       "        text-align: right;\n",
       "    }\n",
       "</style>\n",
       "<table border=\"1\" class=\"dataframe\">\n",
       "  <thead>\n",
       "    <tr style=\"text-align: right;\">\n",
       "      <th></th>\n",
       "      <th>X</th>\n",
       "      <th>Y</th>\n",
       "    </tr>\n",
       "  </thead>\n",
       "  <tbody>\n",
       "    <tr>\n",
       "      <th>0</th>\n",
       "      <td>2</td>\n",
       "      <td>10</td>\n",
       "    </tr>\n",
       "    <tr>\n",
       "      <th>1</th>\n",
       "      <td>2</td>\n",
       "      <td>5</td>\n",
       "    </tr>\n",
       "    <tr>\n",
       "      <th>2</th>\n",
       "      <td>8</td>\n",
       "      <td>4</td>\n",
       "    </tr>\n",
       "    <tr>\n",
       "      <th>3</th>\n",
       "      <td>5</td>\n",
       "      <td>8</td>\n",
       "    </tr>\n",
       "    <tr>\n",
       "      <th>4</th>\n",
       "      <td>7</td>\n",
       "      <td>5</td>\n",
       "    </tr>\n",
       "    <tr>\n",
       "      <th>5</th>\n",
       "      <td>6</td>\n",
       "      <td>4</td>\n",
       "    </tr>\n",
       "    <tr>\n",
       "      <th>6</th>\n",
       "      <td>1</td>\n",
       "      <td>2</td>\n",
       "    </tr>\n",
       "    <tr>\n",
       "      <th>7</th>\n",
       "      <td>4</td>\n",
       "      <td>9</td>\n",
       "    </tr>\n",
       "  </tbody>\n",
       "</table>\n",
       "</div>"
      ],
      "text/plain": [
       "   X   Y\n",
       "0  2  10\n",
       "1  2   5\n",
       "2  8   4\n",
       "3  5   8\n",
       "4  7   5\n",
       "5  6   4\n",
       "6  1   2\n",
       "7  4   9"
      ]
     },
     "execution_count": 336,
     "metadata": {},
     "output_type": "execute_result"
    }
   ],
   "source": [
    "data"
   ]
  },
  {
   "cell_type": "code",
   "execution_count": 337,
   "metadata": {},
   "outputs": [],
   "source": [
    "kmeans = K_Means_Clustering()"
   ]
  },
  {
   "cell_type": "code",
   "execution_count": 338,
   "metadata": {},
   "outputs": [
    {
     "name": "stdout",
     "output_type": "stream",
     "text": [
      "Final Centroids : [(3.67, 9.0), (1.5, 3.5), (7.0, 4.33)]\n",
      "Final Clusters : \n",
      "{(3.67, 9.0): [(2, 10), (5, 8), (4, 9)], (1.5, 3.5): [(2, 5), (1, 2)], (7.0, 4.33): [(8, 4), (7, 5), (6, 4)]}\n"
     ]
    }
   ],
   "source": [
    "kmeans.cluster(data,3)"
   ]
  },
  {
   "cell_type": "code",
   "execution_count": null,
   "metadata": {},
   "outputs": [],
   "source": []
  },
  {
   "cell_type": "code",
   "execution_count": null,
   "metadata": {},
   "outputs": [],
   "source": []
  }
 ],
 "metadata": {
  "kernelspec": {
   "display_name": "Python 3",
   "language": "python",
   "name": "python3"
  },
  "language_info": {
   "codemirror_mode": {
    "name": "ipython",
    "version": 3
   },
   "file_extension": ".py",
   "mimetype": "text/x-python",
   "name": "python",
   "nbconvert_exporter": "python",
   "pygments_lexer": "ipython3",
   "version": "3.8.5"
  }
 },
 "nbformat": 4,
 "nbformat_minor": 4
}
